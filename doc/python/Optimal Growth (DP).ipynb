{
 "cells": [
  {
   "cell_type": "markdown",
   "metadata": {},
   "source": [
    "# Computing the Optimal Growth Model by Dynamic Programming"
   ]
  },
  {
   "cell_type": "code",
   "execution_count": 1,
   "metadata": {
    "collapsed": true
   },
   "outputs": [],
   "source": [
    "%matplotlib inline\n",
    "import numpy as np\n",
    "import matplotlib.pyplot as plt"
   ]
  },
  {
   "cell_type": "markdown",
   "metadata": {},
   "source": [
    "# Computation of the optimal growth model\n",
    "\n",
    "Let's consider the following optimal growth model again:\n",
    "\n",
    "$$\n",
    "\\begin{aligned}\n",
    "\t&\\max\\int_{0}^{\\infty}e^{-\\rho t}u(c(t))dt \\\\\n",
    "\t&\\text{subject to} \\\\\n",
    "\t&\\qquad\\dot{k}(t)=f(k(t))-\\delta k(t)-c(t),\\\\\n",
    "\t&\\qquad k(0):\\text{ given.} \\\\\n",
    "\\end{aligned}\n",
    "$$\n",
    "\n",
    "We assume that \n",
    "\n",
    "$$\n",
    "\\begin{aligned}\n",
    "   u(c) &= \\frac{c^{1-\\theta}}{1-\\theta}, \\quad \\theta > 0, \\\\\n",
    "   f(k) &= A k^\\alpha, \\quad 0 < \\alpha < 1, \\quad A > 0\n",
    "\\end{aligned}\n",
    "$$"
   ]
  },
  {
   "cell_type": "markdown",
   "metadata": {},
   "source": [
    "We will use the following parameters."
   ]
  },
  {
   "cell_type": "code",
   "execution_count": 2,
   "metadata": {
    "collapsed": true
   },
   "outputs": [],
   "source": [
    "alpha = 0.3\n",
    "delta = 0.05\n",
    "theta = 1\n",
    "rho = 0.1\n",
    "A = 1\n",
    "\n",
    "def u(c):\n",
    "    \"\"\"utility function\"\"\"\n",
    "    if theta == 1:\n",
    "        return np.log(c)\n",
    "    return c**(1 - theta) / (1 - theta)\n",
    "\n",
    "def f(k):\n",
    "    \"\"\"production function\"\"\"\n",
    "    return A * k**alpha"
   ]
  },
  {
   "cell_type": "markdown",
   "metadata": {},
   "source": [
    "## Dynamic programing approach\n",
    "\n",
    "By the method of dynamic programing we know that the value that the objective function attains along the optimal path is a function of initial $k(0) = k$. This function is denoted by \n",
    "\n",
    "$$\n",
    "   v(k)\n",
    "$$\n",
    "\n",
    "and is called the value function. It satisfies the following Hamilton-Jacobi-Bellman equation:\n",
    "\n",
    "$$\n",
    "   \\rho v (k) = \\max_c \\left[u(c)+v'(k)\\left\\{ f(k)-\\delta k-c\\right\\} \\right], \\quad  k \\ge 0.\n",
    "$$\n",
    "\n",
    "\n",
    "Since the maximizing consumption is attained at\n",
    "\n",
    "$$\n",
    "   c(k) = (u')^{-1}(v'(k)), \n",
    "$$\n",
    "\n",
    "having $\\max$ in the equation doesn't make things hard. \n",
    "\n",
    "Here is a trick to compute $v$ iteratively. Consider the following update rule: \n",
    "\n",
    "$$\n",
    "   \\frac{v_1(k) - v_0(k)}{\\Delta} + \\rho v_0(k) = \\max_c \\left[u(c)+v'_0(k)\\left\\{ f(k)-\\delta k-c\\right\\} \\right],\n",
    "$$\n",
    "\n",
    "where $v_0$ is the current guess of the value and $v_1$ is the updated guess. If you continue this procedure of updating the guess from $v_0$ to $v_1$ and to $v_2, \\dots$, until $v_n$ and $v_{n+1}$ are sufficiently close to each other (Technically speaking this is not sufficient for convergence). You will get a good approximation of the true value function $v$.\n",
    "\n",
    "I will demonstrate this solution method here. You don't have to fully understand the theory at this stage. I adapted the code (for this explicit method) by B. Moll http://www.princeton.edu/~moll/HACTproject/HACT_Additional_Codes.pdf\n",
    "\n",
    "The below code is not optimized."
   ]
  },
  {
   "cell_type": "code",
   "execution_count": 3,
   "metadata": {
    "collapsed": false
   },
   "outputs": [],
   "source": [
    "dk = 0.01\n",
    "kgrid = np.arange(0.01, 5, dk)\n",
    "Delta = 0.2 * dk / max(f(kgrid) - delta * kgrid)\n",
    "\n",
    "def uprime(c):\n",
    "    \"\"\"derivative of u\"\"\"\n",
    "    return c**(-theta)\n",
    "\n",
    "def uprime_inv(y):\n",
    "    \"\"\"inverse of u'\"\"\"\n",
    "    return y**(-1/theta)\n",
    "\n",
    "def update_value(v):\n",
    "    \"\"\"update rule\"\"\"\n",
    "    v1 = np.empty_like(v)\n",
    "    for i, k in enumerate(kgrid):\n",
    "        if i == 0:\n",
    "            vprime = (v[i+1] - v[i]) / dk\n",
    "        elif i == len(kgrid)-1:\n",
    "            vprime = (v[i] - v[i-1]) / dk\n",
    "        else:\n",
    "            dvf = (v[i+1] - v[i]) / dk\n",
    "            dvb = (v[i] - v[i-1]) / dk\n",
    "            dv0 = uprime(f(k) - delta*k)\n",
    "            \n",
    "            muf = f(k) - delta*k - uprime_inv(dvf)\n",
    "            mub = f(k) - delta*k - uprime_inv(dvb)\n",
    "            \n",
    "            if muf > 0:\n",
    "                vprime = dvf\n",
    "            elif mub < 0:\n",
    "                vprime = dvb\n",
    "            else:\n",
    "                vprime = dv0\n",
    "        \n",
    "        c = uprime_inv(vprime)\n",
    "        v1[i] = v0[i] + Delta * (- rho*v0[i] + u(c) + vprime*(f(k) - delta*k - c))\n",
    "        \n",
    "    return v1"
   ]
  },
  {
   "cell_type": "markdown",
   "metadata": {},
   "source": [
    "The value function is attained after iteration."
   ]
  },
  {
   "cell_type": "code",
   "execution_count": 4,
   "metadata": {
    "collapsed": false
   },
   "outputs": [],
   "source": [
    "v0 = f(kgrid)\n",
    "for _ in range(3000):\n",
    "    v1 = update_value(v0)\n",
    "    if np.sum((v0 - v1)**2) < 1e-5:\n",
    "        break\n",
    "    v0 = v1"
   ]
  },
  {
   "cell_type": "code",
   "execution_count": 5,
   "metadata": {
    "collapsed": false
   },
   "outputs": [
    {
     "data": {
      "text/plain": [
       "[<matplotlib.lines.Line2D at 0x10c3338d0>]"
      ]
     },
     "execution_count": 5,
     "metadata": {},
     "output_type": "execute_result"
    },
    {
     "data": {
      "image/png": "[encoded data removed]",
      "text/plain": [
       "<matplotlib.figure.Figure at 0x10c333908>"
      ]
     },
     "metadata": {},
     "output_type": "display_data"
    }
   ],
   "source": [
    "fig, ax = plt.subplots(1,1)\n",
    "ax.plot(kgrid, v0)"
   ]
  },
  {
   "cell_type": "markdown",
   "metadata": {},
   "source": [
    "Since you have the value function, it is possible to compute the policy function (or the consumption function) by \n",
    "\n",
    "$$\n",
    "   c(k) = (u')^{-1}(v'(k)),\n",
    "$$\n",
    "\n",
    "a (naive) computation of which involves numerical differentiation."
   ]
  },
  {
   "cell_type": "code",
   "execution_count": 6,
   "metadata": {
    "collapsed": false
   },
   "outputs": [],
   "source": [
    "def value_function(k):\n",
    "    return np.interp(k, kgrid, v0)\n",
    "\n",
    "def vprime(k, dk=0.001):\n",
    "    return (value_function(k + dk) - value_function(k)) / dk"
   ]
  },
  {
   "cell_type": "code",
   "execution_count": 7,
   "metadata": {
    "collapsed": true
   },
   "outputs": [],
   "source": [
    "def phase_diagram(kmax, gridnum, yamp=1.8, colors=['black', 'black'], labels_on=False):\n",
    "\n",
    "    kgrid = np.linspace(0.0, kmax, gridnum)\n",
    "\n",
    "    fig, ax = plt.subplots(1,1)\n",
    "\n",
    "    # EE locus\n",
    "    ax.plot(kgrid, f(kgrid) - delta * kgrid, color=colors[0])\n",
    "    if labels_on:\n",
    "        ax.text(4, f(4) - delta * 4, '$\\dot k = 0$', fontsize=16)\n",
    "\n",
    "    # CA locus\n",
    "    kstar = ((delta + rho) / (A * alpha)) ** (1/(alpha - 1))\n",
    "    ax.axvline(kstar, color=colors[1])\n",
    "    if labels_on:\n",
    "        ax.text(kstar*1.01, 0.1, '$\\dot c = 0$', fontsize=16)\n",
    "\n",
    "    # axis labels\n",
    "    ax.set_xlabel('$k$', fontsize=16)\n",
    "    ax.set_ylabel('$c$', fontsize=16)\n",
    "        \n",
    "    ax.set_ylim([0.0, yamp * np.max(f(kgrid) - delta*kgrid)])\n",
    "\n",
    "    return fig, ax"
   ]
  },
  {
   "cell_type": "code",
   "execution_count": 8,
   "metadata": {
    "collapsed": false
   },
   "outputs": [
    {
     "name": "stderr",
     "output_type": "stream",
     "text": [
      "/Users/kenjisato/.pyenv/versions/anaconda3-4.1.1/lib/python3.5/site-packages/ipykernel/__main__.py:11: RuntimeWarning: divide by zero encountered in reciprocal\n"
     ]
    },
    {
     "data": {
      "text/plain": [
       "[<matplotlib.lines.Line2D at 0x10c612438>]"
      ]
     },
     "execution_count": 8,
     "metadata": {},
     "output_type": "execute_result"
    },
    {
     "data": {
      "image/png": "[encoded data removed]",
      "text/plain": [
       "<matplotlib.figure.Figure at 0x10c612128>"
      ]
     },
     "metadata": {},
     "output_type": "display_data"
    }
   ],
   "source": [
    "fig, ax = phase_diagram(kmax=5, gridnum=300)\n",
    "ax.plot(kgrid, uprime_inv(vprime(kgrid)))"
   ]
  },
  {
   "cell_type": "code",
   "execution_count": null,
   "metadata": {
    "collapsed": true
   },
   "outputs": [],
   "source": []
  }
 ],
 "metadata": {
  "anaconda-cloud": {},
  "kernelspec": {
   "display_name": "Python [Root]",
   "language": "python",
   "name": "Python [Root]"
  },
  "language_info": {
   "codemirror_mode": {
    "name": "ipython",
    "version": 3
   },
   "file_extension": ".py",
   "mimetype": "text/x-python",
   "name": "python",
   "nbconvert_exporter": "python",
   "pygments_lexer": "ipython3",
   "version": "3.5.2"
  }
 },
 "nbformat": 4,
 "nbformat_minor": 0
}
