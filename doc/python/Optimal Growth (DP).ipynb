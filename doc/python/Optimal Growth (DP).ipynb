{
 "cells": [
  {
   "cell_type": "markdown",
   "metadata": {},
   "source": [
    "# Computing the Optimal Growth Model by Dynamic Programming"
   ]
  },
  {
   "cell_type": "code",
   "execution_count": 1,
   "metadata": {
    "collapsed": true
   },
   "outputs": [],
   "source": [
    "%matplotlib inline\n",
    "import numpy as np\n",
    "import matplotlib.pyplot as plt"
   ]
  },
  {
   "cell_type": "markdown",
   "metadata": {},
   "source": [
    "# Computation of the optimal growth model\n",
    "\n",
    "Let's consider the following optimal growth model again:\n",
    "\n",
    "$$\n",
    "\\begin{aligned}\n",
    "\t&\\max\\int_{0}^{\\infty}e^{-\\rho t}u(c(t))dt \\\\\n",
    "\t&\\text{subject to} \\\\\n",
    "\t&\\qquad\\dot{k}(t)=f(k(t))-\\delta k(t)-c(t),\\\\\n",
    "\t&\\qquad k(0):\\text{ given.} \\\\\n",
    "\\end{aligned}\n",
    "$$\n",
    "\n",
    "We assume that \n",
    "\n",
    "$$\n",
    "\\begin{aligned}\n",
    "   u(c) &= \\frac{c^{1-\\theta}}{1-\\theta}, \\quad \\theta > 0, \\\\\n",
    "   f(k) &= A k^\\alpha, \\quad 0 < \\alpha < 1, \\quad A > 0\n",
    "\\end{aligned}\n",
    "$$"
   ]
  },
  {
   "cell_type": "markdown",
   "metadata": {},
   "source": [
    "We will use the following parameters."
   ]
  },
  {
   "cell_type": "code",
   "execution_count": 2,
   "metadata": {
    "collapsed": true
   },
   "outputs": [],
   "source": [
    "alpha = 0.3\n",
    "delta = 0.05\n",
    "theta = 5.0\n",
    "rho = alpha * delta * theta - delta\n",
    "A = 1\n",
    "\n",
    "def u(c):\n",
    "    \"\"\"utility function\"\"\"\n",
    "    if theta == 1:\n",
    "        return np.log(c)\n",
    "    return c**(1 - theta) / (1 - theta)\n",
    "\n",
    "def f(k):\n",
    "    \"\"\"production function\"\"\"\n",
    "    return A * k ** alpha"
   ]
  },
  {
   "cell_type": "markdown",
   "metadata": {},
   "source": [
    "## Dynamic programing approach\n",
    "\n",
    "By the method of dynamic programing we know that the value that the objective function attains along the optimal path is a function of initial $k(0) = x$. This function is denoted by \n",
    "\n",
    "$$\n",
    "   v(x)\n",
    "$$\n",
    "\n",
    "and is called the value function. It satisfies the following Hamilton-Jacobi-Bellman equation:\n",
    "\n",
    "$$\n",
    "   \\rho v (x) = \\max_c \\left[u(c)+v'(x)\\left\\{ f(x)-\\delta x-c\\right\\} \\right], \\quad  x \\ge 0.\n",
    "$$\n",
    "\n",
    "\n",
    "Since the utility maximizing consumption is attained at\n",
    "\n",
    "$$\n",
    "   c_{\\mathrm{opt}}(x) = (u')^{-1}(v'(x)), \n",
    "$$\n",
    "\n",
    "having $\\max$ in the equation doesn't make things hard. ($(u')^{-1}(\\cdot)$ is the inverse function of indreasing $u'(\\cdot)$).\n",
    "\n",
    "Here is a trick to compute $v$ iteratively. Consider the following update rule: \n",
    "\n",
    "$$\n",
    "   \\frac{v_1(x) - v_0(x)}{\\Delta} + \\rho v_0(x) = \\max_c \\left[u(c)+v'_0(x)\\left\\{ f(x)-\\delta x - c\\right\\} \\right],\n",
    "$$\n",
    "\n",
    "where $v_0$ is the current guess of the value and $v_1$ is the updated guess:\n",
    "\n",
    "$$\n",
    "\\begin{aligned}\n",
    "  v_1(x) \n",
    "    &= v_0(x) + \\Delta \\left(\n",
    "                      - \\rho v_0 (x) + \\max_c \n",
    "                      \\left[\n",
    "                        u(c)+v'_0(x)\\left\\{ f(x)-\\delta x - c \\right\\} \n",
    "                      \\right]\n",
    "                \\right) \\\\\n",
    "    &= v_0(x) + \\Delta \\left[ -\\rho v_0(x) + u\\left(c_{\\mathrm{opt}}(x) \\right) + \n",
    "                        v'_0(x)\\left\\{\n",
    "                           f(x) - \\delta x - c_{\\mathrm{opt}}(x)\n",
    "                        \\right\\}\n",
    "                \\right] \\\\\n",
    "    &= (1 - \\rho \\Delta) v_0(x) + \\Delta \\left[ u\\left(c_{\\mathrm{opt}}(x) \\right) + \n",
    "                        v'_0(x)\\left\\{\n",
    "                           f(x) - \\delta x - c_{\\mathrm{opt}}(x)\n",
    "                        \\right\\}\n",
    "                \\right]\n",
    "\\end{aligned}\n",
    "$$\n",
    "\n",
    "\n",
    "If you continue this procedure of updating the guess from $v_0$ to $v_1$ and to $v_2, \\dots$, until $v_n$ and $v_{n+1}$ are sufficiently close to each other (Technically speaking this is not sufficient for convergence). You will get a good approximation of the true value function $v$.\n",
    "\n",
    "I will demonstrate this solution method here. You don't have to fully understand the theory at this stage. I adapted the code (for this explicit method) by B. Moll http://www.princeton.edu/~moll/HACTproject/HACT_Additional_Codes.pdf\n",
    "\n",
    "The below code is not optimized."
   ]
  },
  {
   "cell_type": "code",
   "execution_count": 3,
   "metadata": {
    "collapsed": true
   },
   "outputs": [],
   "source": [
    "ngrid = 250\n",
    "k = np.linspace(0.01, 10, ngrid)\n",
    "dk = k[1] - k[0]\n",
    "Delta = 0.25 * dk / max(f(k) - delta * k)\n",
    "\n",
    "def du(c):\n",
    "    \"\"\"derivative of u\"\"\"\n",
    "    return c**(-theta)\n",
    "\n",
    "def du_inv(y): \n",
    "    \"\"\"inverse function of the derivative of u\"\"\"\n",
    "    return y**(-1/theta)\n",
    "\n",
    "def update(v):\n",
    "    \"\"\"update rule of the explicit method\n",
    "    \n",
    "    Parameter\n",
    "    ---------\n",
    "    v: array_like\n",
    "        Guess of the value function\n",
    "        \n",
    "    Returen\n",
    "    -------\n",
    "    vnew: array_like\n",
    "        Updated guess of the value function\n",
    "        \n",
    "    dv: array_like\n",
    "        Numerical derivative of v \n",
    "        \n",
    "    \"\"\"\n",
    "    vnew = np.zeros_like(v)\n",
    "    dv = np.zeros_like(v)\n",
    "    \n",
    "    # forward difference\n",
    "    dvf = np.zeros_like(v)\n",
    "    dvf[:-1] = (v[1:] - v[:-1]) / dk\n",
    "    \n",
    "    # backward difference\n",
    "    dvb = np.zeros_like(v)\n",
    "    dvb[1:] = (v[1:] - v[:-1]) / dk\n",
    "    dvb[0] = du(f(k[0]) - delta * k[0])\n",
    "    \n",
    "    muf = f(k) - delta * k - du_inv(dvf)\n",
    "    mub = f(k) - delta * k - du_inv(dvb)\n",
    "    \n",
    "    condlist = [muf > 0, mub < 0, np.logical_and(muf < 0, mub > 0)]\n",
    "    choicelist = [dvf, dvb, np.full((len(v),), du(f(k) - delta * k))]\n",
    "    \n",
    "    dv = np.select(condlist, choicelist)\n",
    "    c = du_inv(dv)\n",
    "    \n",
    "    vnew = (1 - rho * Delta) * v + Delta * (u(c) + dv * (f(k) - delta * k - c))\n",
    "        \n",
    "    return vnew, dv"
   ]
  },
  {
   "cell_type": "markdown",
   "metadata": {},
   "source": [
    "The value function is attained after iteration."
   ]
  },
  {
   "cell_type": "code",
   "execution_count": 4,
   "metadata": {
    "collapsed": false
   },
   "outputs": [
    {
     "name": "stderr",
     "output_type": "stream",
     "text": [
      "/Users/kenjisato/.pyenv/versions/anaconda3-4.1.1/lib/python3.5/site-packages/ipykernel/__main__.py:12: RuntimeWarning: divide by zero encountered in power\n",
      "/Users/kenjisato/.pyenv/versions/anaconda3-4.1.1/lib/python3.5/site-packages/ipykernel/__main__.py:12: RuntimeWarning: invalid value encountered in power\n",
      "/Users/kenjisato/.pyenv/versions/anaconda3-4.1.1/lib/python3.5/site-packages/ipykernel/__main__.py:46: RuntimeWarning: invalid value encountered in greater\n",
      "/Users/kenjisato/.pyenv/versions/anaconda3-4.1.1/lib/python3.5/site-packages/ipykernel/__main__.py:46: RuntimeWarning: invalid value encountered in less\n",
      "/Users/kenjisato/.pyenv/versions/anaconda3-4.1.1/lib/python3.5/site-packages/ipykernel/__main__.py:52: RuntimeWarning: invalid value encountered in multiply\n"
     ]
    }
   ],
   "source": [
    "v0 = 0.2 * u(k)\n",
    "for _ in range(20000):\n",
    "    v1, vp = update(v0)\n",
    "    if np.allclose(v1, v0):\n",
    "        break\n",
    "    v0 = v1"
   ]
  },
  {
   "cell_type": "markdown",
   "metadata": {},
   "source": [
    "Since you have the value function and its derivative, you can immediately compute the policy function (or the consumption function) by \n",
    "\n",
    "$$\n",
    "   c(k) = (u')^{-1}(v'(k)).\n",
    "$$"
   ]
  },
  {
   "cell_type": "code",
   "execution_count": 5,
   "metadata": {
    "collapsed": false
   },
   "outputs": [
    {
     "name": "stderr",
     "output_type": "stream",
     "text": [
      "/Users/kenjisato/.pyenv/versions/anaconda3-4.1.1/lib/python3.5/site-packages/ipykernel/__main__.py:12: RuntimeWarning: divide by zero encountered in power\n"
     ]
    },
    {
     "data": {
      "text/plain": [
       "[<matplotlib.lines.Line2D at 0x10c3e0d68>]"
      ]
     },
     "execution_count": 5,
     "metadata": {},
     "output_type": "execute_result"
    },
    {
     "data": {
      "image/png": "[encoded data removed]",
      "text/plain": [
       "<matplotlib.figure.Figure at 0x105438b38>"
      ]
     },
     "metadata": {},
     "output_type": "display_data"
    }
   ],
   "source": [
    "# The modified golden rule capital stock\n",
    "k_mg = ((delta + rho) / (A * alpha)) ** (1/(alpha - 1))\n",
    "\n",
    "fig, ax = plt.subplots(1,1)\n",
    "ax.plot(k, f(k) - delta * k, color='black')\n",
    "ax.axvline(k_mg, color='black')\n",
    "\n",
    "ax.set_xlabel('$k$', fontsize=16)\n",
    "ax.set_ylabel('$c$', fontsize=16)\n",
    "\n",
    "ax.plot(k, du_inv(vp))"
   ]
  },
  {
   "cell_type": "markdown",
   "metadata": {},
   "source": [
    "We have carefully chosen the parameter values so that the optimal policy can be analytically solved for. \n",
    "\n",
    "To see the computed policy function is correct, let's compare this with the theoretical result. It is known that under our parameter conditions, the optimal growth model satisfies the Solow's assumption regarding the saving rate; i.e., the saving rate, $s$, is constant irrespective of $k$. As a matter of fact,\n",
    "\n",
    "$$\n",
    "s = 1 / \\theta,\n",
    "$$\n",
    "\n",
    "where $\\theta$ is the (constant) coefficient of relative risk aversion.\n",
    "\n",
    "The consumption function therefore becomes\n",
    "\n",
    "$$\n",
    "c(k) = (1 - 1/\\theta) f(k).\n",
    "$$\n",
    "\n",
    "The green plot represents the analytical consumption function and the blue the computed. I added a small deviation to the green because otherwise you cannot see the green one."
   ]
  },
  {
   "cell_type": "code",
   "execution_count": 15,
   "metadata": {
    "collapsed": false
   },
   "outputs": [
    {
     "name": "stderr",
     "output_type": "stream",
     "text": [
      "/Users/kenjisato/.pyenv/versions/anaconda3-4.1.1/lib/python3.5/site-packages/ipykernel/__main__.py:12: RuntimeWarning: divide by zero encountered in power\n"
     ]
    },
    {
     "data": {
      "text/plain": [
       "[<matplotlib.lines.Line2D at 0x111481eb8>]"
      ]
     },
     "execution_count": 15,
     "metadata": {},
     "output_type": "execute_result"
    },
    {
     "data": {
      "image/png": "[encoded data removed]",
      "text/plain": [
       "<matplotlib.figure.Figure at 0x111247fd0>"
      ]
     },
     "metadata": {},
     "output_type": "display_data"
    }
   ],
   "source": [
    "fig, ax = plt.subplots(1,1)\n",
    "ax.plot(k, f(k) - delta * k, color='black')\n",
    "ax.axvline(k_mg, color='black')\n",
    "\n",
    "ax.set_xlabel('$k$', fontsize=16)\n",
    "ax.set_ylabel('$c$', fontsize=16)\n",
    "\n",
    "ax.plot(k, (1 - 1/theta) * f(k) + 0.01, color='green')\n",
    "ax.plot(k, du_inv(vp), color='blue')"
   ]
  },
  {
   "cell_type": "code",
   "execution_count": null,
   "metadata": {
    "collapsed": true
   },
   "outputs": [],
   "source": []
  }
 ],
 "metadata": {
  "anaconda-cloud": {},
  "kernelspec": {
   "display_name": "Python [Root]",
   "language": "python",
   "name": "Python [Root]"
  },
  "language_info": {
   "codemirror_mode": {
    "name": "ipython",
    "version": 3
   },
   "file_extension": ".py",
   "mimetype": "text/x-python",
   "name": "python",
   "nbconvert_exporter": "python",
   "pygments_lexer": "ipython3",
   "version": "3.5.2"
  }
 },
 "nbformat": 4,
 "nbformat_minor": 0
}
